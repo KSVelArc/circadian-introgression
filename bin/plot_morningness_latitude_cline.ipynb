{
 "cells": [
  {
   "cell_type": "markdown",
   "id": "0ba69c9e-a2ba-417a-81dd-3f11d362fa64",
   "metadata": {},
   "source": []
  },
  {
   "cell_type": "code",
   "execution_count": null,
   "id": "106f1d37-396d-49ff-b746-cd6dbaad7101",
   "metadata": {},
   "outputs": [],
   "source": []
  },
  {
   "cell_type": "code",
   "execution_count": 2,
   "id": "61a304b4-2ff9-480d-88b0-7c59c75632e4",
   "metadata": {},
   "outputs": [],
   "source": [
    "# plot_morningness_latitude_cline.ipynb\n",
    "\"\"\"\"\"\"\"\"\"\"\"\"\"\"\"\"\"\"\"\"\"\"\"\"\"\"\"\"\"\"\"\"\"\n",
    "# Author: Keila Velazquez-Arcelay\n",
    "# \n",
    "# Description: Evaluate morningness associated variants that follow an allele frequency latitudinal cline in Eurasia.\n",
    "#              Putilov introgressed rs75804782, T>C 2:238407402 (GRCh38) 2:239316043 (GRCh37).\n",
    "#              GWAS: https://www.ebi.ac.uk/gwas/efotraits/EFO_0004354\n",
    "#              Identified in introgression maps: Browning 2018, Sankararaman 2014, Steinruecken, Skov 2020\n",
    "#              Mentioned in:\n",
    "#              - Dannemann and Kelso, 2017. https://doi.org/10.1016/j.ajhg.2017.09.010\n",
    "#              - Jones et al., 2016. https://doi.org/10.1371/journal.pgen.1006125\n",
    "#              - Putilov et al., 2018. https://doi.org/10.1080/09291016.2018.1465249\n",
    "#              \n",
    "#              https://popgen.uchicago.edu/ggv\n",
    "# \n",
    "\"\"\"\"\"\"\"\"\"\"\"\"\"\"\"\"\"\"\"\"\"\"\"\"\"\"\"\"\"\"\"\"\"\n",
    "\n",
    "\n",
    "\n",
    "# INPUT DATA\n",
    "filenames = {\n",
    "    'browning2018':'../data/plotting_morningness_latitude_cline_browning2018_chr2.bed',\n",
    "    'browning2018_c':'../data/plotting_morningness_latitude_cline_browning2018_c_chr2.bed',\n",
    "    'browning2018_plus1':'../data/plotting_morningness_latitude_cline_browning2018_plus1_chr2.bed',\n",
    "    'browning2018_plus1_c':'../data/plotting_morningness_latitude_cline_browning2018_plus1_c_chr2.bed',\n",
    "    'browning2018_plusAll':'../data/plotting_morningness_latitude_cline_browning2018_plusAll_chr2.bed',\n",
    "    'browning2018_plusAll_c':'../data/plotting_morningness_latitude_cline_browning2018_plusAll_c_chr2.bed'\n",
    "}\n",
    "\n",
    "\n",
    "import pandas as pd\n",
    "import numpy as np\n",
    "from scipy import stats\n",
    "import matplotlib.pyplot as plt\n",
    "\n"
   ]
  },
  {
   "cell_type": "code",
   "execution_count": 78,
   "id": "48797db1-83e1-4709-8166-7625607d1568",
   "metadata": {},
   "outputs": [],
   "source": [
    "def linear_regression(df, R, P, lr, plot):\n",
    "    # Number of SNPs meeting the P-value and R threshold\n",
    "    c = 0\n",
    "    # Iterate SNPs by chromosome name and position\n",
    "    for a,b in list(set(zip(df['Chr'],df['End']))):\n",
    "        snp = df[(df['Chr']==a) & (df['End']==b)]\n",
    "        rsid = snp['RSID'].drop_duplicates().values[0]\n",
    "        if set(snp['ALT_FREQ'].values.tolist())!={0}:\n",
    "            # Find association between the population's latitude and allele frequencies\n",
    "            slope, intercept, r_value, p_value, std_err = stats.linregress(snp['Latitude'], \n",
    "                                                                snp['ALT_FREQ'])\n",
    "            # Filter result by R and P-value\n",
    "            if (r_value >= R or r_value <= -R) and (p_value <= P):\n",
    "                c+=1\n",
    "                # Return statistic values if specifiedby 'lr'\n",
    "                if lr.upper()=='YES':\n",
    "                    print('---\\n{}: R:{}, P:{}, Std_err:{}\\n'.format(rsid, round(r_value, 2), p_value, round(std_err, 6)))\n",
    "                    label = '{}, {}:{}'.format(rsid, snp['Chr'].iloc[0], snp['End'].iloc[0])\n",
    "                    # Return plot if specified by 'plot'\n",
    "                    if plot.upper()=='YES':\n",
    "                        x = snp['ALT_FREQ']\n",
    "                        y = snp['Latitude']\n",
    "                        m, b = np.polyfit(x, y, 1)\n",
    "                        \n",
    "                        # plt.scatter(x, y);\n",
    "                        plt.plot(x, y, 'o', color='red')\n",
    "                        plt.plot(x, m*x+b, color='black')\n",
    "                        plt.title(label)\n",
    "                        plt.xlabel('Frq')\n",
    "                        plt.ylabel('Lat')\n",
    "                        plt.show()\n",
    "                    else:\n",
    "                        print(label)\n",
    "    df_len = len(df['RSID'].drop_duplicates())\n",
    "    return f'There are {c} out of {df_len} morningness increasing variants showing a latitudinal cline pattern with R>={R}'\n",
    "\n",
    "\n"
   ]
  },
  {
   "cell_type": "code",
   "execution_count": 79,
   "id": "45545689-6624-48e0-bd9e-6e8d67e1bbac",
   "metadata": {},
   "outputs": [],
   "source": [
    "# LOAD DATA\n",
    "#morningness = pd.read_csv(ALLELE_LAT, sep='\\t')\n",
    "dfs = {}\n",
    "for k,v in filenames.items():\n",
    "    dfs[k] = pd.read_csv(v, sep='\\t')\n",
    "    dfs[k].rename(columns={'lat_ancestry':'Latitude'}, inplace=True)\n",
    "\n"
   ]
  },
  {
   "cell_type": "code",
   "execution_count": 86,
   "id": "44724576-20a3-4d27-9e07-8bf9b0561724",
   "metadata": {
    "jupyter": {
     "source_hidden": true
    },
    "tags": []
   },
   "outputs": [
    {
     "name": "stdout",
     "output_type": "stream",
     "text": [
      "Introgressed SNPs associated with chronotype (pval<=5x10^-8):\n",
      "      Browning et al., 2018: 1075\n",
      "      Circadian Browning et al., 2018: 39\n",
      "      Browning +1 other methods: 899\n",
      "      Circadian Browning +1 other methods: 38\n"
     ]
    }
   ],
   "source": [
    "# Number of circadian introgressed SNPs associated with chronotype (pval<=5x10^-8)\n",
    "print('Introgressed SNPs associated with chronotype (pval<=5x10^-8):\\n\\\n",
    "      Browning et al., 2018: {}\\n\\\n",
    "      Circadian Browning et al., 2018: {}\\n\\\n",
    "      Browning +1 other methods: {}\\n\\\n",
    "      Circadian Browning +1 other methods: {}'.format(\n",
    "    len(dfs['browning2018']['RSID'].drop_duplicates()),\n",
    "    len(dfs['browning2018_c']['RSID'].drop_duplicates()),\n",
    "    len(dfs['browning2018_plus1']['RSID'].drop_duplicates()),\n",
    "    len(dfs['browning2018_plus1_c']['RSID'].drop_duplicates())\n",
    "))\n"
   ]
  },
  {
   "cell_type": "code",
   "execution_count": 103,
   "id": "a76c129a-6b30-4251-aea9-a282c1b64d25",
   "metadata": {
    "tags": []
   },
   "outputs": [
    {
     "data": {
      "text/plain": [
       "'There are 369 out of 899 morningness increasing variants showing a latitudinal cline pattern with R>=0.65'"
      ]
     },
     "execution_count": 103,
     "metadata": {},
     "output_type": "execute_result"
    }
   ],
   "source": [
    "# Test the introgressed morningness SNPs for latitudinal clines in Eurasia\n",
    "# (DATAFRAME, R, PVALUE, STATISTICS OUTPUT, PLOT OUTPUT)\n",
    "linear_regression(dfs['browning2018_plus1'], 0.65, 0.05, 'no', 'no')\n"
   ]
  },
  {
   "cell_type": "code",
   "execution_count": 112,
   "id": "bc1dd43d-53d9-455a-b613-6937abbbd974",
   "metadata": {},
   "outputs": [
    {
     "name": "stdout",
     "output_type": "stream",
     "text": [
      "---\n",
      "rs75804782: R:0.85, P:6.0477558340006774e-05, Std_err:0.043658\n",
      "\n"
     ]
    },
    {
     "data": {
      "image/png": "[encoded data removed]",
      "text/plain": [
       "<Figure size 432x288 with 1 Axes>"
      ]
     },
     "metadata": {
      "needs_background": "light"
     },
     "output_type": "display_data"
    },
    {
     "data": {
      "text/plain": [
       "'There are 1 out of 1 morningness increasing variants showing a latitudinal cline pattern with R>=0.75'"
      ]
     },
     "execution_count": 112,
     "metadata": {},
     "output_type": "execute_result"
    }
   ],
   "source": [
    "# Previously reported circadian introgressed SNPs that follows a latitudinal cline in Eurasia\n",
    "# Putilov introgressed variant: rs75804782\n",
    "putilov = dfs['browning2018_plus1'][(dfs['browning2018_plus1']['Chr']=='chr2') & (dfs['browning2018_plus1']['End']==239316043)]\n",
    "linear_regression(putilov, 0.75, 0.05, 'yes', 'yes')\n"
   ]
  },
  {
   "cell_type": "code",
   "execution_count": 89,
   "id": "3255b478-d01f-49de-a345-b28a23bd1d1d",
   "metadata": {},
   "outputs": [
    {
     "data": {
      "text/plain": [
       "(0.84978873219386, 6.047755834000703e-05)"
      ]
     },
     "execution_count": 89,
     "metadata": {},
     "output_type": "execute_result"
    }
   ],
   "source": [
    "stats.pearsonr(putilov['ALT_FREQ'], putilov['Latitude'])"
   ]
  },
  {
   "cell_type": "code",
   "execution_count": null,
   "id": "42ce1ba7-c141-4523-aa8d-67eb76528417",
   "metadata": {},
   "outputs": [],
   "source": []
  },
  {
   "cell_type": "code",
   "execution_count": null,
   "id": "d5b51660-ecb9-4e33-b549-e5b67534de3d",
   "metadata": {},
   "outputs": [],
   "source": []
  },
  {
   "cell_type": "code",
   "execution_count": null,
   "id": "771ca884-3f60-4fd1-9556-d52eff9024e9",
   "metadata": {},
   "outputs": [],
   "source": []
  },
  {
   "cell_type": "code",
   "execution_count": null,
   "id": "b5211c38-7f12-40f2-bfe2-310c14e83fa5",
   "metadata": {},
   "outputs": [],
   "source": []
  },
  {
   "cell_type": "code",
   "execution_count": null,
   "id": "a2bebfe4-58ac-45a4-9831-adf788f098d6",
   "metadata": {},
   "outputs": [],
   "source": [
    "# LD signals"
   ]
  },
  {
   "cell_type": "code",
   "execution_count": 3,
   "id": "417d3504-3ffe-49ef-bf3d-2ffbb8df7250",
   "metadata": {},
   "outputs": [],
   "source": [
    "r = pd.read_csv('../data/chronotype_chr2_r2.tsv', sep='\\t', index_col=0)"
   ]
  },
  {
   "cell_type": "code",
   "execution_count": 111,
   "id": "46b7174b-f015-4d08-b3c3-4f24202906d7",
   "metadata": {},
   "outputs": [],
   "source": [
    "r.reset_index(inplace=True) #r.reset_index(names='RSID', inplace=True)\n",
    "r.rename(columns={r.columns[0]: 'RSID'}, inplace=True)\n"
   ]
  },
  {
   "cell_type": "code",
   "execution_count": 113,
   "id": "143d43a2-79d1-4b2e-8e38-d30a053510f9",
   "metadata": {},
   "outputs": [],
   "source": [
    "data = pd.merge(dfs['browning2018_plus1'].iloc[:,:4].drop_duplicates(),r, on='RSID')\n"
   ]
  },
  {
   "cell_type": "code",
   "execution_count": null,
   "id": "aab373a1-076a-4cd7-bbe8-bad2aac13854",
   "metadata": {},
   "outputs": [],
   "source": []
  },
  {
   "cell_type": "code",
   "execution_count": null,
   "id": "896f5b57-6e1d-4764-8f04-dac7883754a2",
   "metadata": {},
   "outputs": [],
   "source": []
  },
  {
   "cell_type": "code",
   "execution_count": null,
   "id": "1f03e3e1-b92a-41d4-affb-20593f733d25",
   "metadata": {},
   "outputs": [],
   "source": [
    "# GTEx"
   ]
  },
  {
   "cell_type": "code",
   "execution_count": 91,
   "id": "6ef5c54b-dcf0-46e7-8d6b-783469a9a3f3",
   "metadata": {},
   "outputs": [],
   "source": [
    "gtex = pd.read_csv('../data/raw_GTEx_v8_browning2018.bed.xz', sep='\\t', compression='xz')"
   ]
  },
  {
   "cell_type": "code",
   "execution_count": null,
   "id": "c541e9ee-0030-46c5-85a6-eb4b6f9e2701",
   "metadata": {},
   "outputs": [],
   "source": [
    "#gtex = gtex.rename(columns={gtex.columns[0]: 'Chr', gtex.columns[1]: 'Start', gtex.columns[2]: 'End'})\n"
   ]
  },
  {
   "cell_type": "code",
   "execution_count": 95,
   "id": "32c32ad8-16e7-48ee-bf15-895242b289af",
   "metadata": {},
   "outputs": [],
   "source": [
    "morningness_eqtl = pd.merge(gtex,dfs['browning2018_plus1'],on=['Chr','Start','End'])#[['Chr','Start','End','gene_id','eQTL','RSID']].drop_duplicates()"
   ]
  },
  {
   "cell_type": "code",
   "execution_count": 99,
   "id": "0aa7d81e-bdba-4882-a9ce-79cc8cf918a3",
   "metadata": {},
   "outputs": [
    {
     "data": {
      "text/plain": [
       "52095    ENSG00000186235\n",
       "52110    ENSG00000204104\n",
       "52155    ENSG00000065802\n",
       "Name: GeneID, dtype: object"
      ]
     },
     "execution_count": 99,
     "metadata": {},
     "output_type": "execute_result"
    }
   ],
   "source": [
    "#morningness_eqtl[morningness_eqtl['GeneID'].str.startswith('ENSG00000144485')]\n",
    "morningness_eqtl[morningness_eqtl['ID']=='rs75804782']['GeneID'].drop_duplicates()"
   ]
  },
  {
   "cell_type": "code",
   "execution_count": 94,
   "id": "f6acbb2f-b72e-4f21-83d3-58dba08489e3",
   "metadata": {},
   "outputs": [
    {
     "data": {
      "text/html": [
       "<div>\n",
       "<style scoped>\n",
       "    .dataframe tbody tr th:only-of-type {\n",
       "        vertical-align: middle;\n",
       "    }\n",
       "\n",
       "    .dataframe tbody tr th {\n",
       "        vertical-align: top;\n",
       "    }\n",
       "\n",
       "    .dataframe thead th {\n",
       "        text-align: right;\n",
       "    }\n",
       "</style>\n",
       "<table border=\"1\" class=\"dataframe\">\n",
       "  <thead>\n",
       "    <tr style=\"text-align: right;\">\n",
       "      <th></th>\n",
       "      <th>Chr</th>\n",
       "      <th>Start</th>\n",
       "      <th>End</th>\n",
       "      <th>ID</th>\n",
       "      <th>Ref/Alt</th>\n",
       "      <th>GeneID</th>\n",
       "      <th>pval_nominal</th>\n",
       "      <th>pval_beta</th>\n",
       "      <th>Tissue</th>\n",
       "      <th>RSID</th>\n",
       "      <th>beta</th>\n",
       "      <th>pval</th>\n",
       "      <th>Haplotype</th>\n",
       "      <th>Population</th>\n",
       "      <th>reg</th>\n",
       "      <th>Latitude</th>\n",
       "      <th>REF_FREQ</th>\n",
       "      <th>ALT_FREQ</th>\n",
       "    </tr>\n",
       "  </thead>\n",
       "  <tbody>\n",
       "    <tr>\n",
       "      <th>0</th>\n",
       "      <td>chr2</td>\n",
       "      <td>539703</td>\n",
       "      <td>539704</td>\n",
       "      <td>rs146650757</td>\n",
       "      <td>T/A</td>\n",
       "      <td>ENSG00000235688</td>\n",
       "      <td>0.000057</td>\n",
       "      <td>2.095530e-13</td>\n",
       "      <td>Adipose_Subcutaneous</td>\n",
       "      <td>rs146650757</td>\n",
       "      <td>0.026593</td>\n",
       "      <td>0.037109</td>\n",
       "      <td>206</td>\n",
       "      <td>CDX</td>\n",
       "      <td>EAS</td>\n",
       "      <td>22.000000</td>\n",
       "      <td>100.00</td>\n",
       "      <td>0.00</td>\n",
       "    </tr>\n",
       "    <tr>\n",
       "      <th>1</th>\n",
       "      <td>chr2</td>\n",
       "      <td>539703</td>\n",
       "      <td>539704</td>\n",
       "      <td>rs146650757</td>\n",
       "      <td>T/A</td>\n",
       "      <td>ENSG00000235688</td>\n",
       "      <td>0.000057</td>\n",
       "      <td>2.095530e-13</td>\n",
       "      <td>Adipose_Subcutaneous</td>\n",
       "      <td>rs146650757</td>\n",
       "      <td>0.026593</td>\n",
       "      <td>0.037109</td>\n",
       "      <td>206</td>\n",
       "      <td>CHB</td>\n",
       "      <td>EAS</td>\n",
       "      <td>39.916666</td>\n",
       "      <td>100.00</td>\n",
       "      <td>0.00</td>\n",
       "    </tr>\n",
       "    <tr>\n",
       "      <th>2</th>\n",
       "      <td>chr2</td>\n",
       "      <td>539703</td>\n",
       "      <td>539704</td>\n",
       "      <td>rs146650757</td>\n",
       "      <td>T/A</td>\n",
       "      <td>ENSG00000235688</td>\n",
       "      <td>0.000057</td>\n",
       "      <td>2.095530e-13</td>\n",
       "      <td>Adipose_Subcutaneous</td>\n",
       "      <td>rs146650757</td>\n",
       "      <td>0.026593</td>\n",
       "      <td>0.037109</td>\n",
       "      <td>206</td>\n",
       "      <td>JPT</td>\n",
       "      <td>EAS</td>\n",
       "      <td>35.680000</td>\n",
       "      <td>100.00</td>\n",
       "      <td>0.00</td>\n",
       "    </tr>\n",
       "    <tr>\n",
       "      <th>3</th>\n",
       "      <td>chr2</td>\n",
       "      <td>539703</td>\n",
       "      <td>539704</td>\n",
       "      <td>rs146650757</td>\n",
       "      <td>T/A</td>\n",
       "      <td>ENSG00000235688</td>\n",
       "      <td>0.000057</td>\n",
       "      <td>2.095530e-13</td>\n",
       "      <td>Adipose_Subcutaneous</td>\n",
       "      <td>rs146650757</td>\n",
       "      <td>0.026593</td>\n",
       "      <td>0.037109</td>\n",
       "      <td>206</td>\n",
       "      <td>KHV</td>\n",
       "      <td>EAS</td>\n",
       "      <td>10.780000</td>\n",
       "      <td>100.00</td>\n",
       "      <td>0.00</td>\n",
       "    </tr>\n",
       "    <tr>\n",
       "      <th>4</th>\n",
       "      <td>chr2</td>\n",
       "      <td>539703</td>\n",
       "      <td>539704</td>\n",
       "      <td>rs146650757</td>\n",
       "      <td>T/A</td>\n",
       "      <td>ENSG00000235688</td>\n",
       "      <td>0.000057</td>\n",
       "      <td>2.095530e-13</td>\n",
       "      <td>Adipose_Subcutaneous</td>\n",
       "      <td>rs146650757</td>\n",
       "      <td>0.026593</td>\n",
       "      <td>0.037109</td>\n",
       "      <td>206</td>\n",
       "      <td>CHS</td>\n",
       "      <td>EAS</td>\n",
       "      <td>23.133330</td>\n",
       "      <td>100.00</td>\n",
       "      <td>0.00</td>\n",
       "    </tr>\n",
       "    <tr>\n",
       "      <th>...</th>\n",
       "      <td>...</td>\n",
       "      <td>...</td>\n",
       "      <td>...</td>\n",
       "      <td>...</td>\n",
       "      <td>...</td>\n",
       "      <td>...</td>\n",
       "      <td>...</td>\n",
       "      <td>...</td>\n",
       "      <td>...</td>\n",
       "      <td>...</td>\n",
       "      <td>...</td>\n",
       "      <td>...</td>\n",
       "      <td>...</td>\n",
       "      <td>...</td>\n",
       "      <td>...</td>\n",
       "      <td>...</td>\n",
       "      <td>...</td>\n",
       "      <td>...</td>\n",
       "    </tr>\n",
       "    <tr>\n",
       "      <th>62380</th>\n",
       "      <td>chr2</td>\n",
       "      <td>242789902</td>\n",
       "      <td>242789903</td>\n",
       "      <td>rs200317777</td>\n",
       "      <td>T/C</td>\n",
       "      <td>ENSG00000216921</td>\n",
       "      <td>0.000038</td>\n",
       "      <td>1.104490e-03</td>\n",
       "      <td>Adipose_Visceral_Omentum</td>\n",
       "      <td>rs200317777</td>\n",
       "      <td>-0.023908</td>\n",
       "      <td>0.031731</td>\n",
       "      <td>417</td>\n",
       "      <td>GBR</td>\n",
       "      <td>EUR</td>\n",
       "      <td>52.486243</td>\n",
       "      <td>99.45</td>\n",
       "      <td>0.55</td>\n",
       "    </tr>\n",
       "    <tr>\n",
       "      <th>62381</th>\n",
       "      <td>chr2</td>\n",
       "      <td>242789902</td>\n",
       "      <td>242789903</td>\n",
       "      <td>rs200317777</td>\n",
       "      <td>T/C</td>\n",
       "      <td>ENSG00000216921</td>\n",
       "      <td>0.000038</td>\n",
       "      <td>1.104490e-03</td>\n",
       "      <td>Adipose_Visceral_Omentum</td>\n",
       "      <td>rs200317777</td>\n",
       "      <td>-0.023908</td>\n",
       "      <td>0.031731</td>\n",
       "      <td>417</td>\n",
       "      <td>FIN</td>\n",
       "      <td>EUR</td>\n",
       "      <td>60.170000</td>\n",
       "      <td>96.46</td>\n",
       "      <td>3.54</td>\n",
       "    </tr>\n",
       "    <tr>\n",
       "      <th>62382</th>\n",
       "      <td>chr2</td>\n",
       "      <td>242789902</td>\n",
       "      <td>242789903</td>\n",
       "      <td>rs200317777</td>\n",
       "      <td>T/C</td>\n",
       "      <td>ENSG00000216921</td>\n",
       "      <td>0.000038</td>\n",
       "      <td>1.104490e-03</td>\n",
       "      <td>Adipose_Visceral_Omentum</td>\n",
       "      <td>rs200317777</td>\n",
       "      <td>-0.023908</td>\n",
       "      <td>0.031731</td>\n",
       "      <td>417</td>\n",
       "      <td>IBS</td>\n",
       "      <td>EUR</td>\n",
       "      <td>40.380000</td>\n",
       "      <td>98.60</td>\n",
       "      <td>1.40</td>\n",
       "    </tr>\n",
       "    <tr>\n",
       "      <th>62383</th>\n",
       "      <td>chr2</td>\n",
       "      <td>242789902</td>\n",
       "      <td>242789903</td>\n",
       "      <td>rs200317777</td>\n",
       "      <td>T/C</td>\n",
       "      <td>ENSG00000216921</td>\n",
       "      <td>0.000038</td>\n",
       "      <td>1.104490e-03</td>\n",
       "      <td>Adipose_Visceral_Omentum</td>\n",
       "      <td>rs200317777</td>\n",
       "      <td>-0.023908</td>\n",
       "      <td>0.031731</td>\n",
       "      <td>417</td>\n",
       "      <td>TSI</td>\n",
       "      <td>EUR</td>\n",
       "      <td>42.100000</td>\n",
       "      <td>99.53</td>\n",
       "      <td>0.47</td>\n",
       "    </tr>\n",
       "    <tr>\n",
       "      <th>62384</th>\n",
       "      <td>chr2</td>\n",
       "      <td>242789902</td>\n",
       "      <td>242789903</td>\n",
       "      <td>rs200317777</td>\n",
       "      <td>T/C</td>\n",
       "      <td>ENSG00000216921</td>\n",
       "      <td>0.000038</td>\n",
       "      <td>1.104490e-03</td>\n",
       "      <td>Adipose_Visceral_Omentum</td>\n",
       "      <td>rs200317777</td>\n",
       "      <td>-0.023908</td>\n",
       "      <td>0.031731</td>\n",
       "      <td>417</td>\n",
       "      <td>CEU</td>\n",
       "      <td>EUR</td>\n",
       "      <td>52.372778</td>\n",
       "      <td>98.48</td>\n",
       "      <td>1.52</td>\n",
       "    </tr>\n",
       "  </tbody>\n",
       "</table>\n",
       "<p>62385 rows × 18 columns</p>\n",
       "</div>"
      ],
      "text/plain": [
       "        Chr      Start        End           ID Ref/Alt           GeneID  \\\n",
       "0      chr2     539703     539704  rs146650757     T/A  ENSG00000235688   \n",
       "1      chr2     539703     539704  rs146650757     T/A  ENSG00000235688   \n",
       "2      chr2     539703     539704  rs146650757     T/A  ENSG00000235688   \n",
       "3      chr2     539703     539704  rs146650757     T/A  ENSG00000235688   \n",
       "4      chr2     539703     539704  rs146650757     T/A  ENSG00000235688   \n",
       "...     ...        ...        ...          ...     ...              ...   \n",
       "62380  chr2  242789902  242789903  rs200317777     T/C  ENSG00000216921   \n",
       "62381  chr2  242789902  242789903  rs200317777     T/C  ENSG00000216921   \n",
       "62382  chr2  242789902  242789903  rs200317777     T/C  ENSG00000216921   \n",
       "62383  chr2  242789902  242789903  rs200317777     T/C  ENSG00000216921   \n",
       "62384  chr2  242789902  242789903  rs200317777     T/C  ENSG00000216921   \n",
       "\n",
       "       pval_nominal     pval_beta                    Tissue         RSID  \\\n",
       "0          0.000057  2.095530e-13      Adipose_Subcutaneous  rs146650757   \n",
       "1          0.000057  2.095530e-13      Adipose_Subcutaneous  rs146650757   \n",
       "2          0.000057  2.095530e-13      Adipose_Subcutaneous  rs146650757   \n",
       "3          0.000057  2.095530e-13      Adipose_Subcutaneous  rs146650757   \n",
       "4          0.000057  2.095530e-13      Adipose_Subcutaneous  rs146650757   \n",
       "...             ...           ...                       ...          ...   \n",
       "62380      0.000038  1.104490e-03  Adipose_Visceral_Omentum  rs200317777   \n",
       "62381      0.000038  1.104490e-03  Adipose_Visceral_Omentum  rs200317777   \n",
       "62382      0.000038  1.104490e-03  Adipose_Visceral_Omentum  rs200317777   \n",
       "62383      0.000038  1.104490e-03  Adipose_Visceral_Omentum  rs200317777   \n",
       "62384      0.000038  1.104490e-03  Adipose_Visceral_Omentum  rs200317777   \n",
       "\n",
       "           beta      pval  Haplotype Population  reg   Latitude  REF_FREQ  \\\n",
       "0      0.026593  0.037109        206        CDX  EAS  22.000000    100.00   \n",
       "1      0.026593  0.037109        206        CHB  EAS  39.916666    100.00   \n",
       "2      0.026593  0.037109        206        JPT  EAS  35.680000    100.00   \n",
       "3      0.026593  0.037109        206        KHV  EAS  10.780000    100.00   \n",
       "4      0.026593  0.037109        206        CHS  EAS  23.133330    100.00   \n",
       "...         ...       ...        ...        ...  ...        ...       ...   \n",
       "62380 -0.023908  0.031731        417        GBR  EUR  52.486243     99.45   \n",
       "62381 -0.023908  0.031731        417        FIN  EUR  60.170000     96.46   \n",
       "62382 -0.023908  0.031731        417        IBS  EUR  40.380000     98.60   \n",
       "62383 -0.023908  0.031731        417        TSI  EUR  42.100000     99.53   \n",
       "62384 -0.023908  0.031731        417        CEU  EUR  52.372778     98.48   \n",
       "\n",
       "       ALT_FREQ  \n",
       "0          0.00  \n",
       "1          0.00  \n",
       "2          0.00  \n",
       "3          0.00  \n",
       "4          0.00  \n",
       "...         ...  \n",
       "62380      0.55  \n",
       "62381      3.54  \n",
       "62382      1.40  \n",
       "62383      0.47  \n",
       "62384      1.52  \n",
       "\n",
       "[62385 rows x 18 columns]"
      ]
     },
     "execution_count": 94,
     "metadata": {},
     "output_type": "execute_result"
    }
   ],
   "source": [
    "morningness_eqtl"
   ]
  },
  {
   "cell_type": "code",
   "execution_count": null,
   "id": "3399cf37-5ad2-4ab7-8218-d0e045c13cbf",
   "metadata": {},
   "outputs": [],
   "source": []
  }
 ],
 "metadata": {
  "kernelspec": {
   "display_name": "Python (ksva)",
   "language": "python",
   "name": "ksva"
  },
  "language_info": {
   "codemirror_mode": {
    "name": "ipython",
    "version": 3
   },
   "file_extension": ".py",
   "mimetype": "text/x-python",
   "name": "python",
   "nbconvert_exporter": "python",
   "pygments_lexer": "ipython3",
   "version": "3.6.11"
  }
 },
 "nbformat": 4,
 "nbformat_minor": 5
}
